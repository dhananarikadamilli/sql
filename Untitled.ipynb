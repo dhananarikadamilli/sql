{
 "cells": [
  {
   "cell_type": "code",
   "execution_count": 1,
   "id": "65962830",
   "metadata": {},
   "outputs": [],
   "source": [
    "import nltk"
   ]
  },
  {
   "cell_type": "code",
   "execution_count": 2,
   "id": "8e9951d9",
   "metadata": {},
   "outputs": [
    {
     "name": "stderr",
     "output_type": "stream",
     "text": [
      "[nltk_data] Downloading package punkt to\n",
      "[nltk_data]     C:\\Users\\DHANALAKSHMI\\AppData\\Roaming\\nltk_data...\n",
      "[nltk_data]   Unzipping tokenizers\\punkt.zip.\n"
     ]
    },
    {
     "data": {
      "text/plain": [
       "True"
      ]
     },
     "execution_count": 2,
     "metadata": {},
     "output_type": "execute_result"
    }
   ],
   "source": [
    "nltk.download('punkt')"
   ]
  },
  {
   "cell_type": "code",
   "execution_count": 3,
   "id": "63994eea",
   "metadata": {},
   "outputs": [
    {
     "name": "stdout",
     "output_type": "stream",
     "text": [
      "Note: you may need to restart the kernel to use updated packages.\n"
     ]
    },
    {
     "name": "stderr",
     "output_type": "stream",
     "text": [
      "ERROR: Could not find a version that satisfies the requirement punkt (from versions: none)\n",
      "ERROR: No matching distribution found for punkt\n"
     ]
    }
   ],
   "source": [
    "pip install punkt"
   ]
  },
  {
   "cell_type": "code",
   "execution_count": 5,
   "id": "a790ea43",
   "metadata": {},
   "outputs": [
    {
     "name": "stdout",
     "output_type": "stream",
     "text": [
      "What is this paragraph about?this paragraph about,myself Dhana,I'm AIMl student from  swarnanadhra college!\n"
     ]
    }
   ],
   "source": [
    "    text=\"What is this paragraph about?this paragraph about,myself Dhana,I'm AIMl student from  swarnanadhra college!\"\n",
    "    sen=nltk.sent_tokenize(text)\n",
    "    for st in sen:\n",
    "        print(st)"
   ]
  },
  {
   "cell_type": "code",
   "execution_count": 7,
   "id": "bf5d1255",
   "metadata": {},
   "outputs": [
    {
     "name": "stdout",
     "output_type": "stream",
     "text": [
      "hello im dhana lakshmi from swarnandhara college of engineering and technology\n"
     ]
    }
   ],
   "source": [
    "text=\"hello im dhana lakshmi from swarnandhara college of engineering and technology\"\n",
    "sen=nltk.sent_tokenize(text)\n",
    "for st in sen:\n",
    "    print(st)"
   ]
  },
  {
   "cell_type": "code",
   "execution_count": 8,
   "id": "f5ee8d0b",
   "metadata": {},
   "outputs": [
    {
     "data": {
      "text/plain": [
       "<function nltk.tokenize.sent_tokenize(text, language='english')>"
      ]
     },
     "execution_count": 8,
     "metadata": {},
     "output_type": "execute_result"
    }
   ],
   "source": [
    "nltk.sent_tokenize"
   ]
  },
  {
   "cell_type": "code",
   "execution_count": 9,
   "id": "93e323a7",
   "metadata": {},
   "outputs": [],
   "source": [
    "import pandas as pd\n",
    "import numpy as np\n",
    "import matplotlib .pyplot as plt\n",
    "import seaborn as sns\n",
    "%matplotlib inline\n",
    "sns.set_style(\"whitegrid\")\n",
    "plt.style.use(\"fivethirtyeight\")\n",
    "simple_train=['call you tonight','call a cab for me','please help me.....PLEASE!']"
   ]
  },
  {
   "cell_type": "code",
   "execution_count": null,
   "id": "fa6d5373",
   "metadata": {},
   "outputs": [],
   "source": []
  }
 ],
 "metadata": {
  "kernelspec": {
   "display_name": "Python 3 (ipykernel)",
   "language": "python",
   "name": "python3"
  },
  "language_info": {
   "codemirror_mode": {
    "name": "ipython",
    "version": 3
   },
   "file_extension": ".py",
   "mimetype": "text/x-python",
   "name": "python",
   "nbconvert_exporter": "python",
   "pygments_lexer": "ipython3",
   "version": "3.9.12"
  }
 },
 "nbformat": 4,
 "nbformat_minor": 5
}
